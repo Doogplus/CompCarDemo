{
 "cells": [
  {
   "cell_type": "markdown",
   "metadata": {},
   "source": [
    "# This is a demo Car Classification Project running on CompCar dataset with Resnet50 architecture\n",
    "\n",
    "\n",
    "## Dataset Description\n",
    "\n",
    "The CompCar dataste is provided here http://mmlab.ie.cuhk.edu.hk/datasets/comp_cars/index.html\n",
    "It's ecpteced to download and upzip the whole dataset under PROJECT_ROOT/Dataset.\n",
    "Meanwhile, there is also a file called \"full_model_name_updated.txt\" under PROJECT_ROOT?Dataset, while contains 136725 lines. Each line will map a image file's directory (used to load this image) to the actual "
   ]
  },
  {
   "cell_type": "code",
   "execution_count": null,
   "metadata": {},
   "outputs": [],
   "source": [
    "import torch\n",
    "from PIL import Image\n",
    "from torch.utils.data import Dataset\n",
    "from torchvision import transforms, utils\n",
    "\n",
    "\n",
    "#dataset \n",
    "class CarDataset(Dataset):\n",
    "    def __init__(self, guide_file, transform):\n",
    "        with open(guide_file, 'r') as f_r:\n",
    "            self.lines = f_r.readlines()\n",
    "        self.transform = transform\n",
    "    def __len__(self):\n",
    "        return len(self.lines)\n",
    "    def __getitem__(self, index):\n",
    "        #print('invoke here')\n",
    "        filename , model = self.lines[index].strip().split(' ')\n",
    "        #print(filename)\n",
    "        model = int(model)\n",
    "        filename = '../Dataset' + filename[1:]\n",
    "        #print(filename)\n",
    "        image = Image.open(filename)\n",
    "        #image = skimage.transform.rescale(io.imread(filename), (567, 800, 3)) #fix the image size, actually this causes trouble\n",
    "        #print(image.shape)\n",
    "        if self.transform :\n",
    "            image = self.transform(image)\n",
    "        #print(image.size())\n",
    "        return {'image':image,'label': model}\n",
    "            \n",
    "transform = transforms.Compose([\n",
    "    transforms.Resize(( 224,224)),\n",
    "    transforms.ToTensor()\n",
    "]\n",
    ")          \n",
    "            \n",
    "dataset = CarDataset('../Dataset/full_model_name_updated.txt', transform)"
   ]
  }
 ],
 "metadata": {
  "kernelspec": {
   "display_name": "Python 3",
   "language": "python",
   "name": "python3"
  },
  "language_info": {
   "codemirror_mode": {
    "name": "ipython",
    "version": 3
   },
   "file_extension": ".py",
   "mimetype": "text/x-python",
   "name": "python",
   "nbconvert_exporter": "python",
   "pygments_lexer": "ipython3",
   "version": "3.6.10"
  }
 },
 "nbformat": 4,
 "nbformat_minor": 4
}
