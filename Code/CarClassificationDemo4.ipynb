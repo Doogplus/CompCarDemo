{
 "cells": [
  {
   "cell_type": "markdown",
   "metadata": {},
   "source": [
    "# This is an even easier demo\n",
    "\n",
    "This demo is designed only just for showing how to use the pretrained model, nothing else."
   ]
  },
  {
   "cell_type": "code",
   "execution_count": 2,
   "metadata": {},
   "outputs": [],
   "source": [
    "import torch \n",
    "import torchvision\n",
    "from torchvision import transforms\n",
    "\n",
    "transform = transforms.Compose([\n",
    "    transforms.Resize(( 224,224)),\n",
    "    transforms.ToTensor()\n",
    "]\n",
    ")          \n",
    "\n",
    "class CarMakeModelClassifier(torch.nn.Module):\n",
    "    def __init__(self, device):\n",
    "        super(CarMakeModelClassifier, self).__init__()\n",
    "        self.device = device\n",
    "        self.make_classifier = torchvision.models.resnet34(pretrained=False, progress=True)\n",
    "        self.make_classifier.fc = torch.nn.Linear(in_features = 512, out_features = 163)\n",
    "        self.model_classifier = torchvision.models.resnet50(pretrained=False, progress=True)\n",
    "        self.model_classifier.fc = torch.nn.Linear(in_features = 2048, out_features = 2004)\n",
    "        self.make_classifier = self.make_classifier.to(device)\n",
    "        self.model_classifier = self.model_classifier.to(device)\n",
    "    def forward(self, x):\n",
    "        make = self.make_classifier(x.to(self.device))\n",
    "        model = self.model_classifier(x.to(self.device))\n",
    "        return {'make':make, 'model':model}\n",
    "\n",
    "device = torch.device('cpu')\n",
    "classifier = CarMakeModelClassifier(device)\n",
    "\n",
    "optimizer_model = torch.optim.Adam(classifier.model_classifier.parameters())\n",
    "optimizer_make = torch.optim.Adam(classifier.make_classifier.parameters())\n",
    "criterion = torch.nn.CrossEntropyLoss()\n",
    "\n",
    "\n",
    "checkpoint = torch.load('checkpoint4/10_epoch.tar', map_location=torch.device('cpu'))\n",
    "classifier.make_classifier.load_state_dict(checkpoint['make_model_state_dict'])\n",
    "optimizer_make.load_state_dict(checkpoint['make_optimizer_state_dict'])\n",
    "classifier.model_classifier.load_state_dict(checkpoint['model_model_state_dict'])\n",
    "optimizer_model.load_state_dict(checkpoint['model_optimizer_state_dict'])"
   ]
  },
  {
   "cell_type": "code",
   "execution_count": 3,
   "metadata": {},
   "outputs": [],
   "source": [
    "import scipy.io as skio\n",
    "mapping_model = skio.loadmat('../Dataset/data/misc/make_model_name.mat')['model_names'][:, 0]\n",
    "mapping_make = skio.loadmat('../Dataset/data/misc/make_model_name.mat')['make_names'][:, 0]\n",
    "\n",
    "import matplotlib.pyplot as plt\n",
    "from PIL import Image\n",
    "def visualize_perf(imagefile, classifier,transform):\n",
    "    classifier.eval()\n",
    "    image = Image.open(imagefile)\n",
    "    plt.imshow(image)\n",
    "    plt.show()\n",
    "    image_tensor = transform(image).unsqueeze_(0).to(device)\n",
    "#     print(model)\n",
    "    output = classifier(image_tensor)\n",
    "#     print(type(output))\n",
    "    output_make = output['make']\n",
    "    output_model = output['model']\n",
    "    _, predicted_make = output_make.max(1)\n",
    "    _, predicted_model = output_model.max(1)\n",
    "    print('Predicted Make '+str(mapping_make[predicted_make.item()-1]))\n",
    "    print('Predicted Model '+str(mapping_model[predicted_model.item()-1]))\n",
    "    "
   ]
  },
  {
   "cell_type": "code",
   "execution_count": null,
   "metadata": {},
   "outputs": [],
   "source": [
    "visualize_perf('/home/billy/Documents/CompCarDemo/Dataset/data/image/1/1101/2011/07b90decb92ba6.jpg', classifier, transform)"
   ]
  },
  {
   "cell_type": "code",
   "execution_count": null,
   "metadata": {},
   "outputs": [],
   "source": []
  }
 ],
 "metadata": {
  "kernelspec": {
   "display_name": "Python 3",
   "language": "python",
   "name": "python3"
  },
  "language_info": {
   "codemirror_mode": {
    "name": "ipython",
    "version": 3
   },
   "file_extension": ".py",
   "mimetype": "text/x-python",
   "name": "python",
   "nbconvert_exporter": "python",
   "pygments_lexer": "ipython3",
   "version": "3.7.4"
  }
 },
 "nbformat": 4,
 "nbformat_minor": 4
}
