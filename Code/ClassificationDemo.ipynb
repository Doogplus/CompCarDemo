{
 "cells": [
  {
   "cell_type": "code",
   "execution_count": 51,
   "metadata": {},
   "outputs": [],
   "source": [
    "\n",
    "import torch\n",
    "from PIL import Image\n",
    "from torch.utils.data import Dataset\n",
    "from torchvision import transforms, utils\n",
    "\n",
    "\n",
    "#dataset \n",
    "class CarDataset(Dataset):\n",
    "    def __init__(self, guide_file, transform):\n",
    "        with open(guide_file, 'r') as f_r:\n",
    "            self.lines = f_r.readlines()\n",
    "        self.transform = transform\n",
    "    def __len__(self):\n",
    "        return len(self.lines)\n",
    "    def __getitem__(self, index):\n",
    "        #print('invoke here')\n",
    "        filename , model = self.lines[index].strip().split(' ')\n",
    "        #print(filename)\n",
    "        model = int(model)\n",
    "        filename = '../Dataset' + filename[1:]\n",
    "        #print(filename)\n",
    "        image = Image.open(filename)\n",
    "        #image = skimage.transform.rescale(io.imread(filename), (567, 800, 3)) #fix the image size, actually this causes trouble\n",
    "        #print(image.shape)\n",
    "        if self.transform :\n",
    "            image = self.transform(image)\n",
    "        #print(image.size())\n",
    "        return {'image':image,'label': model}\n",
    "            \n",
    "transform = transforms.Compose([\n",
    "    transforms.Resize(( 224,224)),\n",
    "    transforms.ToTensor()\n",
    "]\n",
    ")          \n",
    "            \n",
    "dataset = CarDataset('../Dataset/full_model_name_updated.txt', transform)"
   ]
  },
  {
   "cell_type": "code",
   "execution_count": 52,
   "metadata": {},
   "outputs": [
    {
     "name": "stdout",
     "output_type": "stream",
     "text": [
      "136725\n"
     ]
    }
   ],
   "source": [
    "print(len(dataset))"
   ]
  },
  {
   "cell_type": "code",
   "execution_count": 53,
   "metadata": {},
   "outputs": [],
   "source": [
    "import random\n",
    "test_indices = random.sample(range(0, len(dataset)), 2000)\n",
    "train_indices = [x for x in list(range(0, len(dataset))) if x not in test_indices]\n",
    "train_set = torch.utils.data.Subset(dataset, train_indices)\n",
    "test_set = torch.utils.data.Subset(dataset, test_indices)\n",
    "\n",
    "from torch.utils.data import DataLoader\n",
    "train_loader = DataLoader(train_set, batch_size = 16, shuffle = True, drop_last = True) \n",
    "test_loader = DataLoader(test_set, batch_size=16, shuffle = True, drop_last = True)\n"
   ]
  },
  {
   "cell_type": "code",
   "execution_count": 4,
   "metadata": {},
   "outputs": [],
   "source": [
    "import torchvision\n",
    "from torch import nn\n",
    "model = torchvision.models.resnet50(pretrained=False, progress=True)\n",
    "model.fc = nn.Linear(in_features = 2048, out_features = 2004)"
   ]
  },
  {
   "cell_type": "code",
   "execution_count": 5,
   "metadata": {},
   "outputs": [],
   "source": [
    "# Detect if we have a GPU available\n",
    "device = torch.device(\"cuda:0\" if torch.cuda.is_available() else \"cpu\")\n",
    "model = model.to(device)"
   ]
  },
  {
   "cell_type": "code",
   "execution_count": 6,
   "metadata": {},
   "outputs": [
    {
     "name": "stdout",
     "output_type": "stream",
     "text": [
      "<class 'torch.utils.data.dataloader.DataLoader'>\n",
      "125\n"
     ]
    }
   ],
   "source": [
    "print(type(train_loader))\n",
    "print(len(test_loader))"
   ]
  },
  {
   "cell_type": "code",
   "execution_count": 7,
   "metadata": {},
   "outputs": [],
   "source": [
    "optimizer = torch.optim.Adam(model.parameters())"
   ]
  },
  {
   "cell_type": "code",
   "execution_count": null,
   "metadata": {},
   "outputs": [
    {
     "name": "stdout",
     "output_type": "stream",
     "text": [
      "Epoch: 0 Index: 2238 Train Loss: 0.472862243652343756"
     ]
    }
   ],
   "source": [
    "criterion = nn.CrossEntropyLoss()\n",
    "epoch_num = 5\n",
    "for epoch in range(epoch_num):\n",
    "    for index, batch in enumerate(train_loader):\n",
    "        images = batch['image'].to(device)\n",
    "        labels = batch['label'].to(device)\n",
    "        output = model(images)\n",
    "        #print(output.size())\n",
    "        #print(labels.size())\n",
    "        optimizer.zero_grad()\n",
    "        loss = criterion(output, labels)\n",
    "        loss.backward()\n",
    "        optimizer.step()\n",
    "        print(\"\\r\"+'Epoch: ' + str(epoch) +' Index: '+ str(index) + ' Train Loss: ' + str(loss.item()), end = '')\n",
    "        \n",
    "    loss_record = []\n",
    "    with torch.no_grad():\n",
    "        for batch in test_loader:\n",
    "            images = batch['image'].to(device)\n",
    "            labels = batch['label'].to(device)\n",
    "            output = model(images)\n",
    "            output = model(images)\n",
    "            loss = criterion(output, labels)\n",
    "            loss_record.append(loss.item())\n",
    "    loss = sum(loss_record)/len(loss_record)\n",
    "    print('\\n epoch: '+str(epoch)+', validation loss: '+str(loss))"
   ]
  },
  {
   "cell_type": "code",
   "execution_count": 12,
   "metadata": {},
   "outputs": [
    {
     "name": "stdout",
     "output_type": "stream",
     "text": [
      "[]\n"
     ]
    }
   ],
   "source": []
  },
  {
   "cell_type": "code",
   "execution_count": null,
   "metadata": {},
   "outputs": [],
   "source": [
    "# Epoch: 0 Index: 8419 Train Loss: 6.8445539474487305\n",
    "#  epoch: 0, validation loss: 6.867287994384766\n",
    "# Epoch: 1 Index: 8419 Train Loss: 6.8198108673095775\n",
    "#  epoch: 1, validation loss: 6.645331008911133\n",
    "# Epoch: 2 Index: 8419 Train Loss: 6.1215128898620605\n",
    "#  epoch: 2, validation loss: 6.311001525878906\n",
    "# Epoch: 3 Index: 8419 Train Loss: 5.4562177658081055\n",
    "#  epoch: 3, validation loss: 5.8263019218444825\n",
    "\n",
    "# Epoch: 0 Index: 8419 Train Loss: 4.5064420700073245\n",
    "#  epoch: 0, validation loss: 5.375052528381348\n",
    "# Epoch: 1 Index: 8419 Train Loss: 5.3554143905639655\n",
    "#  epoch: 1, validation loss: 4.905608800888062\n",
    "# Epoch: 2 Index: 8419 Train Loss: 3.4383392333984375\n",
    "#  epoch: 2, validation loss: 4.473903726577759\n",
    "# Epoch: 3 Index: 8419 Train Loss: 2.6703574657440186\n",
    "#  epoch: 3, validation loss: 4.079521377563476\n",
    "# Epoch: 4 Index: 8419 Train Loss: 3.1916491985321045\n",
    "#  epoch: 4, validation loss: 3.7274326038360597\n",
    "# Epoch: 5 Index: 8419 Train Loss: 2.1185774803161623\n",
    "#  epoch: 5, validation loss: 3.5201592960357666\n",
    "\n",
    "# Epoch: 0 Index: 8419 Train Loss: 1.55760908126831054\n",
    "#  epoch: 0, validation loss: 3.3159831352233886\n",
    "# Epoch: 1 Index: 8419 Train Loss: 0.47685241699218755\n",
    "#  epoch: 1, validation loss: 3.2677871742248534\n",
    "# Epoch: 2 Index: 8419 Train Loss: 0.87226676940917976\n",
    "#  epoch: 2, validation loss: 3.1756063709259035\n",
    "# Epoch: 3 Index: 8419 Train Loss: 0.895123481750488344\n",
    "#  epoch: 3, validation loss: 3.25315739440918\n",
    "# Epoch: 4 Index: 8419 Train Loss: 0.877222061157226635\n",
    "#  epoch: 4, validation loss: 3.2391127243041993\n",
    "\n",
    "# Epoch: 0 Index: 8419 Train Loss: 0.497129440307617264\n",
    "#  epoch: 0, validation loss: 3.2249467334747313\n",
    "# Epoch: 1 Index: 8419 Train Loss: 0.2563486099243164665\n",
    "#  epoch: 1, validation loss: 3.359319543838501\n",
    "# Epoch: 2 Index: 8419 Train Loss: 0.2095184326171875525\n",
    "#  epoch: 2, validation loss: 3.398131549835205\n",
    "# Epoch: 3 Index: 8419 Train Loss: 0.3847217559814453355\n",
    "#  epoch: 3, validation loss: 3.4905024795532227\n",
    "# Epoch: 4 Index: 8419 Train Loss: 0.0981330871582031255\n",
    "#  epoch: 4, validation loss: 3.5211891975402834"
   ]
  },
  {
   "cell_type": "code",
   "execution_count": 17,
   "metadata": {},
   "outputs": [],
   "source": [
    "torch.save({\n",
    "            'model_state_dict': model.state_dict(),\n",
    "            'optimizer_state_dict': optimizer.state_dict(),\n",
    "            }, 'checkpoint/20_epoch.tar')"
   ]
  },
  {
   "cell_type": "code",
   "execution_count": 50,
   "metadata": {},
   "outputs": [
    {
     "name": "stdout",
     "output_type": "stream",
     "text": [
      "torch.Size([1, 3, 224, 224])\n",
      "1101\n",
      "1335\n"
     ]
    }
   ],
   "source": [
    "import matplotlib.pyplot as plt\n",
    "with open('../Dataset/full_model_name_updated.txt', 'r') as f_r:\n",
    "    lines = f_r.readlines()\n",
    "filename, real_label = lines[6].strip().split(' ')\n",
    "filename = '../Dataset' + filename[1:]\n",
    "image = Image.open(filename)\n",
    "transform = transforms.Compose([\n",
    "transforms.Resize(( 224,224)),\n",
    "transforms.ToTensor()])\n",
    "plt.show(image)\n",
    "transformed_image = transform(image).unsqueeze_(0)\n",
    "print(transformed_image.size())\n",
    "model.eval()\n",
    "output = model(transformed_image.to(device))\n",
    "_, predicted_label = output.max(1)\n",
    "print(real_label)\n",
    "print(predicted_label.item())"
   ]
  },
  {
   "cell_type": "code",
   "execution_count": null,
   "metadata": {},
   "outputs": [],
   "source": []
  }
 ],
 "metadata": {
  "kernelspec": {
   "display_name": "Python 3",
   "language": "python",
   "name": "python3"
  },
  "language_info": {
   "codemirror_mode": {
    "name": "ipython",
    "version": 3
   },
   "file_extension": ".py",
   "mimetype": "text/x-python",
   "name": "python",
   "nbconvert_exporter": "python",
   "pygments_lexer": "ipython3",
   "version": "3.6.10"
  }
 },
 "nbformat": 4,
 "nbformat_minor": 4
}
